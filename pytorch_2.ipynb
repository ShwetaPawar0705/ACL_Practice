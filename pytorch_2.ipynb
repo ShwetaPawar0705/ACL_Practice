{
 "cells": [
  {
   "cell_type": "code",
   "execution_count": 2,
   "metadata": {},
   "outputs": [],
   "source": [
    "import torch \n",
    "import torch.nn as nn\n",
    "\n",
    "class NeuralNet(nn.Module):\n",
    "    def __init__(self):\n",
    "        super(NeuralNet, self).__init__()\n",
    "        self.layer1 = nn.Linear(10, 20)\n",
    "        self.relu = nn.ReLU()\n",
    "        self.layer2 = nn.Linear(20, 1)\n",
    "\n",
    "    def forward(self, x):\n",
    "        x = self.relu(self.layer1(x))\n",
    "        return self.layer2(x)\n"
   ]
  },
  {
   "cell_type": "code",
   "execution_count": 3,
   "metadata": {},
   "outputs": [],
   "source": [
    "# Define loss fumction and optimizer\n",
    "model = NeuralNet()\n",
    "criterion = nn.MSELoss()\n",
    "optimizer = torch.optim.SGD(model.parameters(), lr=0.01)"
   ]
  },
  {
   "cell_type": "code",
   "execution_count": 5,
   "metadata": {},
   "outputs": [
    {
     "name": "stdout",
     "output_type": "stream",
     "text": [
      "Epoch 1, Loss: 3.016294002532959\n",
      "Epoch 2, Loss: 0.733101487159729\n",
      "Epoch 3, Loss: 0.6070605516433716\n",
      "Epoch 4, Loss: 0.8087398409843445\n",
      "Epoch 5, Loss: 1.0220352411270142\n",
      "Epoch 6, Loss: 0.3793737292289734\n",
      "Epoch 7, Loss: 0.24189896881580353\n",
      "Epoch 8, Loss: 1.523853063583374\n",
      "Epoch 9, Loss: 0.5532748103141785\n",
      "Epoch 10, Loss: 0.8543668985366821\n",
      "Epoch 11, Loss: 0.6357741951942444\n",
      "Epoch 12, Loss: 0.9472653269767761\n",
      "Epoch 13, Loss: 0.6693242192268372\n",
      "Epoch 14, Loss: 3.376310348510742\n",
      "Epoch 15, Loss: 1.5840342044830322\n",
      "Epoch 16, Loss: 0.6210956573486328\n",
      "Epoch 17, Loss: 1.2226800918579102\n",
      "Epoch 18, Loss: 0.5747950077056885\n",
      "Epoch 19, Loss: 2.2450079917907715\n",
      "Epoch 20, Loss: 0.593997597694397\n",
      "Epoch 21, Loss: 0.8342359662055969\n",
      "Epoch 22, Loss: 0.644687831401825\n",
      "Epoch 23, Loss: 3.266932725906372\n",
      "Epoch 24, Loss: 0.5863186120986938\n",
      "Epoch 25, Loss: 0.47813862562179565\n",
      "Epoch 26, Loss: 0.9441316723823547\n",
      "Epoch 27, Loss: 0.7792122960090637\n",
      "Epoch 28, Loss: 0.4427689015865326\n",
      "Epoch 29, Loss: 0.740353524684906\n",
      "Epoch 30, Loss: 0.872186541557312\n",
      "Epoch 31, Loss: 1.1309694051742554\n",
      "Epoch 32, Loss: 0.8107855916023254\n",
      "Epoch 33, Loss: 0.7258329391479492\n",
      "Epoch 34, Loss: 0.48010802268981934\n",
      "Epoch 35, Loss: 1.2112953662872314\n",
      "Epoch 36, Loss: 1.6605840921401978\n",
      "Epoch 37, Loss: 1.094943642616272\n",
      "Epoch 38, Loss: 0.9928392171859741\n",
      "Epoch 39, Loss: 0.5907396078109741\n",
      "Epoch 40, Loss: 1.0169541835784912\n",
      "Epoch 41, Loss: 1.6704343557357788\n",
      "Epoch 42, Loss: 0.9510574340820312\n",
      "Epoch 43, Loss: 0.3321315050125122\n",
      "Epoch 44, Loss: 0.493094265460968\n",
      "Epoch 45, Loss: 0.6850588917732239\n",
      "Epoch 46, Loss: 0.7860461473464966\n",
      "Epoch 47, Loss: 0.4628867208957672\n",
      "Epoch 48, Loss: 0.5450385808944702\n",
      "Epoch 49, Loss: 1.560426950454712\n",
      "Epoch 50, Loss: 0.6144356727600098\n"
     ]
    }
   ],
   "source": [
    "for epoch in range(50):\n",
    "    inputs = torch.randn(5, 10)\n",
    "    targets = torch.randn(5, 1)\n",
    "\n",
    "    optimizer.zero_grad()\n",
    "    outputs = model(inputs)\n",
    "    loss = criterion(outputs, targets)\n",
    "    loss.backward()\n",
    "    optimizer.step()\n",
    "\n",
    "    print(f\"Epoch {epoch+1}, Loss: {loss.item()}\")"
   ]
  },
  {
   "cell_type": "code",
   "execution_count": 6,
   "metadata": {},
   "outputs": [
    {
     "name": "stdout",
     "output_type": "stream",
     "text": [
      "tensor([[ 0.0825],\n",
      "        [-0.0725],\n",
      "        [-0.2433]])\n"
     ]
    }
   ],
   "source": [
    "model.eval()\n",
    "with torch.no_grad():\n",
    "    test_inputs = torch.randn(3, 10)\n",
    "    predictions = model(test_inputs)\n",
    "    print(predictions)"
   ]
  },
  {
   "cell_type": "code",
   "execution_count": null,
   "metadata": {},
   "outputs": [],
   "source": []
  }
 ],
 "metadata": {
  "kernelspec": {
   "display_name": "base",
   "language": "python",
   "name": "python3"
  },
  "language_info": {
   "codemirror_mode": {
    "name": "ipython",
    "version": 3
   },
   "file_extension": ".py",
   "mimetype": "text/x-python",
   "name": "python",
   "nbconvert_exporter": "python",
   "pygments_lexer": "ipython3",
   "version": "3.12.7"
  }
 },
 "nbformat": 4,
 "nbformat_minor": 2
}
